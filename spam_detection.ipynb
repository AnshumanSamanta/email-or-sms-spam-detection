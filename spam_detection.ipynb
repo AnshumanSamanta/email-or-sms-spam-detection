{
 "cells": [
  {
   "cell_type": "code",
   "execution_count": 1,
   "id": "9748f432",
   "metadata": {},
   "outputs": [],
   "source": [
    "import pandas as pd\n",
    "import numpy as np"
   ]
  },
  {
   "cell_type": "code",
   "execution_count": 6,
   "id": "de656241",
   "metadata": {},
   "outputs": [],
   "source": [
    "df = pd.read_csv('spam.csv', encoding='latin-1')"
   ]
  },
  {
   "cell_type": "code",
   "execution_count": 8,
   "id": "1c2a66a5",
   "metadata": {},
   "outputs": [
    {
     "data": {
      "text/html": [
       "<div>\n",
       "<style scoped>\n",
       "    .dataframe tbody tr th:only-of-type {\n",
       "        vertical-align: middle;\n",
       "    }\n",
       "\n",
       "    .dataframe tbody tr th {\n",
       "        vertical-align: top;\n",
       "    }\n",
       "\n",
       "    .dataframe thead th {\n",
       "        text-align: right;\n",
       "    }\n",
       "</style>\n",
       "<table border=\"1\" class=\"dataframe\">\n",
       "  <thead>\n",
       "    <tr style=\"text-align: right;\">\n",
       "      <th></th>\n",
       "      <th>v1</th>\n",
       "      <th>v2</th>\n",
       "      <th>Unnamed: 2</th>\n",
       "      <th>Unnamed: 3</th>\n",
       "      <th>Unnamed: 4</th>\n",
       "    </tr>\n",
       "  </thead>\n",
       "  <tbody>\n",
       "    <tr>\n",
       "      <th>0</th>\n",
       "      <td>ham</td>\n",
       "      <td>Go until jurong point, crazy.. Available only ...</td>\n",
       "      <td>NaN</td>\n",
       "      <td>NaN</td>\n",
       "      <td>NaN</td>\n",
       "    </tr>\n",
       "    <tr>\n",
       "      <th>1</th>\n",
       "      <td>ham</td>\n",
       "      <td>Ok lar... Joking wif u oni...</td>\n",
       "      <td>NaN</td>\n",
       "      <td>NaN</td>\n",
       "      <td>NaN</td>\n",
       "    </tr>\n",
       "    <tr>\n",
       "      <th>2</th>\n",
       "      <td>spam</td>\n",
       "      <td>Free entry in 2 a wkly comp to win FA Cup fina...</td>\n",
       "      <td>NaN</td>\n",
       "      <td>NaN</td>\n",
       "      <td>NaN</td>\n",
       "    </tr>\n",
       "    <tr>\n",
       "      <th>3</th>\n",
       "      <td>ham</td>\n",
       "      <td>U dun say so early hor... U c already then say...</td>\n",
       "      <td>NaN</td>\n",
       "      <td>NaN</td>\n",
       "      <td>NaN</td>\n",
       "    </tr>\n",
       "    <tr>\n",
       "      <th>4</th>\n",
       "      <td>ham</td>\n",
       "      <td>Nah I don't think he goes to usf, he lives aro...</td>\n",
       "      <td>NaN</td>\n",
       "      <td>NaN</td>\n",
       "      <td>NaN</td>\n",
       "    </tr>\n",
       "  </tbody>\n",
       "</table>\n",
       "</div>"
      ],
      "text/plain": [
       "     v1                                                 v2 Unnamed: 2  \\\n",
       "0   ham  Go until jurong point, crazy.. Available only ...        NaN   \n",
       "1   ham                      Ok lar... Joking wif u oni...        NaN   \n",
       "2  spam  Free entry in 2 a wkly comp to win FA Cup fina...        NaN   \n",
       "3   ham  U dun say so early hor... U c already then say...        NaN   \n",
       "4   ham  Nah I don't think he goes to usf, he lives aro...        NaN   \n",
       "\n",
       "  Unnamed: 3 Unnamed: 4  \n",
       "0        NaN        NaN  \n",
       "1        NaN        NaN  \n",
       "2        NaN        NaN  \n",
       "3        NaN        NaN  \n",
       "4        NaN        NaN  "
      ]
     },
     "execution_count": 8,
     "metadata": {},
     "output_type": "execute_result"
    }
   ],
   "source": [
    "df.head()"
   ]
  },
  {
   "cell_type": "code",
   "execution_count": 9,
   "id": "be4c4d34",
   "metadata": {},
   "outputs": [
    {
     "name": "stdout",
     "output_type": "stream",
     "text": [
      "<class 'pandas.core.frame.DataFrame'>\n",
      "RangeIndex: 5572 entries, 0 to 5571\n",
      "Data columns (total 5 columns):\n",
      " #   Column      Non-Null Count  Dtype \n",
      "---  ------      --------------  ----- \n",
      " 0   v1          5572 non-null   object\n",
      " 1   v2          5572 non-null   object\n",
      " 2   Unnamed: 2  50 non-null     object\n",
      " 3   Unnamed: 3  12 non-null     object\n",
      " 4   Unnamed: 4  6 non-null      object\n",
      "dtypes: object(5)\n",
      "memory usage: 217.8+ KB\n"
     ]
    }
   ],
   "source": [
    "df.info()"
   ]
  },
  {
   "cell_type": "code",
   "execution_count": 10,
   "id": "9b8e8004",
   "metadata": {},
   "outputs": [],
   "source": [
    "#data cleaning\n",
    "# drop last 3 cols\n",
    "df.drop(columns=['Unnamed: 2','Unnamed: 3','Unnamed: 4'],inplace=True)"
   ]
  },
  {
   "cell_type": "code",
   "execution_count": 11,
   "id": "20cb6989",
   "metadata": {},
   "outputs": [
    {
     "data": {
      "text/html": [
       "<div>\n",
       "<style scoped>\n",
       "    .dataframe tbody tr th:only-of-type {\n",
       "        vertical-align: middle;\n",
       "    }\n",
       "\n",
       "    .dataframe tbody tr th {\n",
       "        vertical-align: top;\n",
       "    }\n",
       "\n",
       "    .dataframe thead th {\n",
       "        text-align: right;\n",
       "    }\n",
       "</style>\n",
       "<table border=\"1\" class=\"dataframe\">\n",
       "  <thead>\n",
       "    <tr style=\"text-align: right;\">\n",
       "      <th></th>\n",
       "      <th>target</th>\n",
       "      <th>text</th>\n",
       "    </tr>\n",
       "  </thead>\n",
       "  <tbody>\n",
       "    <tr>\n",
       "      <th>1684</th>\n",
       "      <td>ham</td>\n",
       "      <td>Do you want bold 2 or bb torch</td>\n",
       "    </tr>\n",
       "    <tr>\n",
       "      <th>3425</th>\n",
       "      <td>ham</td>\n",
       "      <td>Sure but since my parents will be working on T...</td>\n",
       "    </tr>\n",
       "    <tr>\n",
       "      <th>4425</th>\n",
       "      <td>ham</td>\n",
       "      <td>Was it something u ate?</td>\n",
       "    </tr>\n",
       "    <tr>\n",
       "      <th>1465</th>\n",
       "      <td>spam</td>\n",
       "      <td>YOU 07801543489 are guaranteed the latests Nok...</td>\n",
       "    </tr>\n",
       "    <tr>\n",
       "      <th>283</th>\n",
       "      <td>ham</td>\n",
       "      <td>Okie...</td>\n",
       "    </tr>\n",
       "  </tbody>\n",
       "</table>\n",
       "</div>"
      ],
      "text/plain": [
       "     target                                               text\n",
       "1684    ham                     Do you want bold 2 or bb torch\n",
       "3425    ham  Sure but since my parents will be working on T...\n",
       "4425    ham                            Was it something u ate?\n",
       "1465   spam  YOU 07801543489 are guaranteed the latests Nok...\n",
       "283     ham                                            Okie..."
      ]
     },
     "execution_count": 11,
     "metadata": {},
     "output_type": "execute_result"
    }
   ],
   "source": [
    "# renaming the cols\n",
    "df.rename(columns={'v1':'target','v2':'text'},inplace=True)\n",
    "df.sample(5)"
   ]
  },
  {
   "cell_type": "code",
   "execution_count": 12,
   "id": "8c452344",
   "metadata": {},
   "outputs": [],
   "source": [
    "from sklearn.preprocessing import LabelEncoder\n",
    "encoder = LabelEncoder()"
   ]
  },
  {
   "cell_type": "code",
   "execution_count": 13,
   "id": "d1aad1b7",
   "metadata": {},
   "outputs": [],
   "source": [
    "df['target'] = encoder.fit_transform(df['target'])"
   ]
  },
  {
   "cell_type": "code",
   "execution_count": 14,
   "id": "4448ad18",
   "metadata": {},
   "outputs": [
    {
     "data": {
      "text/html": [
       "<div>\n",
       "<style scoped>\n",
       "    .dataframe tbody tr th:only-of-type {\n",
       "        vertical-align: middle;\n",
       "    }\n",
       "\n",
       "    .dataframe tbody tr th {\n",
       "        vertical-align: top;\n",
       "    }\n",
       "\n",
       "    .dataframe thead th {\n",
       "        text-align: right;\n",
       "    }\n",
       "</style>\n",
       "<table border=\"1\" class=\"dataframe\">\n",
       "  <thead>\n",
       "    <tr style=\"text-align: right;\">\n",
       "      <th></th>\n",
       "      <th>target</th>\n",
       "      <th>text</th>\n",
       "    </tr>\n",
       "  </thead>\n",
       "  <tbody>\n",
       "    <tr>\n",
       "      <th>0</th>\n",
       "      <td>0</td>\n",
       "      <td>Go until jurong point, crazy.. Available only ...</td>\n",
       "    </tr>\n",
       "    <tr>\n",
       "      <th>1</th>\n",
       "      <td>0</td>\n",
       "      <td>Ok lar... Joking wif u oni...</td>\n",
       "    </tr>\n",
       "    <tr>\n",
       "      <th>2</th>\n",
       "      <td>1</td>\n",
       "      <td>Free entry in 2 a wkly comp to win FA Cup fina...</td>\n",
       "    </tr>\n",
       "    <tr>\n",
       "      <th>3</th>\n",
       "      <td>0</td>\n",
       "      <td>U dun say so early hor... U c already then say...</td>\n",
       "    </tr>\n",
       "    <tr>\n",
       "      <th>4</th>\n",
       "      <td>0</td>\n",
       "      <td>Nah I don't think he goes to usf, he lives aro...</td>\n",
       "    </tr>\n",
       "  </tbody>\n",
       "</table>\n",
       "</div>"
      ],
      "text/plain": [
       "   target                                               text\n",
       "0       0  Go until jurong point, crazy.. Available only ...\n",
       "1       0                      Ok lar... Joking wif u oni...\n",
       "2       1  Free entry in 2 a wkly comp to win FA Cup fina...\n",
       "3       0  U dun say so early hor... U c already then say...\n",
       "4       0  Nah I don't think he goes to usf, he lives aro..."
      ]
     },
     "execution_count": 14,
     "metadata": {},
     "output_type": "execute_result"
    }
   ],
   "source": [
    "df.head()"
   ]
  },
  {
   "cell_type": "code",
   "execution_count": 15,
   "id": "5ba0c8c3",
   "metadata": {},
   "outputs": [
    {
     "data": {
      "text/plain": [
       "target    0\n",
       "text      0\n",
       "dtype: int64"
      ]
     },
     "execution_count": 15,
     "metadata": {},
     "output_type": "execute_result"
    }
   ],
   "source": [
    "# missing values\n",
    "df.isnull().sum()"
   ]
  },
  {
   "cell_type": "code",
   "execution_count": 16,
   "id": "ffa16f23",
   "metadata": {},
   "outputs": [
    {
     "data": {
      "text/plain": [
       "403"
      ]
     },
     "execution_count": 16,
     "metadata": {},
     "output_type": "execute_result"
    }
   ],
   "source": [
    "# check for duplicate values\n",
    "df.duplicated().sum()"
   ]
  },
  {
   "cell_type": "code",
   "execution_count": 17,
   "id": "8e5ffc31",
   "metadata": {},
   "outputs": [],
   "source": [
    "# remove duplicates\n",
    "df = df.drop_duplicates(keep='first')"
   ]
  },
  {
   "cell_type": "code",
   "execution_count": 18,
   "id": "54d6d85f",
   "metadata": {},
   "outputs": [
    {
     "data": {
      "text/plain": [
       "0"
      ]
     },
     "execution_count": 18,
     "metadata": {},
     "output_type": "execute_result"
    }
   ],
   "source": [
    "df.duplicated().sum()"
   ]
  },
  {
   "cell_type": "code",
   "execution_count": 19,
   "id": "e4a5a47a",
   "metadata": {},
   "outputs": [
    {
     "data": {
      "text/plain": [
       "(5169, 2)"
      ]
     },
     "execution_count": 19,
     "metadata": {},
     "output_type": "execute_result"
    }
   ],
   "source": [
    "df.shape"
   ]
  },
  {
   "cell_type": "code",
   "execution_count": 20,
   "id": "44f6550b",
   "metadata": {},
   "outputs": [
    {
     "data": {
      "text/plain": [
       "0    4516\n",
       "1     653\n",
       "Name: target, dtype: int64"
      ]
     },
     "execution_count": 20,
     "metadata": {},
     "output_type": "execute_result"
    }
   ],
   "source": [
    "df['target'].value_counts()"
   ]
  },
  {
   "cell_type": "code",
   "execution_count": 21,
   "id": "ebdfb271",
   "metadata": {},
   "outputs": [
    {
     "data": {
      "image/png": "[encoded data removed]",
      "text/plain": [
       "<Figure size 432x288 with 1 Axes>"
      ]
     },
     "metadata": {},
     "output_type": "display_data"
    }
   ],
   "source": [
    "import matplotlib.pyplot as plt\n",
    "plt.pie(df['target'].value_counts(), labels=['ham','spam'],autopct=\"%0.2f\")\n",
    "plt.show()"
   ]
  },
  {
   "cell_type": "code",
   "execution_count": 22,
   "id": "979f05b8",
   "metadata": {},
   "outputs": [
    {
     "name": "stdout",
     "output_type": "stream",
     "text": [
      "Requirement already satisfied: nltk in c:\\users\\anshuman samanta\\appdata\\local\\programs\\python\\python310\\lib\\site-packages (3.8.1)\n",
      "Requirement already satisfied: click in c:\\users\\anshuman samanta\\appdata\\local\\programs\\python\\python310\\lib\\site-packages (from nltk) (8.0.3)\n",
      "Requirement already satisfied: joblib in c:\\users\\anshuman samanta\\appdata\\local\\programs\\python\\python310\\lib\\site-packages (from nltk) (1.2.0)\n",
      "Requirement already satisfied: regex>=2021.8.3 in c:\\users\\anshuman samanta\\appdata\\local\\programs\\python\\python310\\lib\\site-packages (from nltk) (2023.8.8)\n",
      "Requirement already satisfied: tqdm in c:\\users\\anshuman samanta\\appdata\\local\\programs\\python\\python310\\lib\\site-packages (from nltk) (4.66.1)\n",
      "Requirement already satisfied: colorama in c:\\users\\anshuman samanta\\appdata\\local\\programs\\python\\python310\\lib\\site-packages (from click->nltk) (0.4.4)\n"
     ]
    },
    {
     "name": "stderr",
     "output_type": "stream",
     "text": [
      "\n",
      "[notice] A new release of pip is available: 23.2.1 -> 23.3.1\n",
      "[notice] To update, run: python.exe -m pip install --upgrade pip\n"
     ]
    }
   ],
   "source": [
    "!pip install nltk\n"
   ]
  },
  {
   "cell_type": "code",
   "execution_count": 23,
   "id": "a404e136",
   "metadata": {},
   "outputs": [],
   "source": [
    "import nltk"
   ]
  },
  {
   "cell_type": "code",
   "execution_count": 24,
   "id": "f9c35f59",
   "metadata": {},
   "outputs": [
    {
     "name": "stderr",
     "output_type": "stream",
     "text": [
      "[nltk_data] Downloading package punkt to C:\\Users\\anshuman\n",
      "[nltk_data]     samanta\\AppData\\Roaming\\nltk_data...\n",
      "[nltk_data]   Unzipping tokenizers\\punkt.zip.\n"
     ]
    },
    {
     "data": {
      "text/plain": [
       "True"
      ]
     },
     "execution_count": 24,
     "metadata": {},
     "output_type": "execute_result"
    }
   ],
   "source": [
    "nltk.download('punkt')"
   ]
  },
  {
   "cell_type": "code",
   "execution_count": 25,
   "id": "e063cdc0",
   "metadata": {},
   "outputs": [
    {
     "name": "stderr",
     "output_type": "stream",
     "text": [
      "C:\\temp\\ipykernel_30500\\253964734.py:1: SettingWithCopyWarning: \n",
      "A value is trying to be set on a copy of a slice from a DataFrame.\n",
      "Try using .loc[row_indexer,col_indexer] = value instead\n",
      "\n",
      "See the caveats in the documentation: https://pandas.pydata.org/pandas-docs/stable/user_guide/indexing.html#returning-a-view-versus-a-copy\n",
      "  df['num_characters'] = df['text'].apply(len)\n"
     ]
    }
   ],
   "source": [
    "df['num_characters'] = df['text'].apply(len)"
   ]
  },
  {
   "cell_type": "code",
   "execution_count": 26,
   "id": "82bf143a",
   "metadata": {},
   "outputs": [
    {
     "data": {
      "text/html": [
       "<div>\n",
       "<style scoped>\n",
       "    .dataframe tbody tr th:only-of-type {\n",
       "        vertical-align: middle;\n",
       "    }\n",
       "\n",
       "    .dataframe tbody tr th {\n",
       "        vertical-align: top;\n",
       "    }\n",
       "\n",
       "    .dataframe thead th {\n",
       "        text-align: right;\n",
       "    }\n",
       "</style>\n",
       "<table border=\"1\" class=\"dataframe\">\n",
       "  <thead>\n",
       "    <tr style=\"text-align: right;\">\n",
       "      <th></th>\n",
       "      <th>target</th>\n",
       "      <th>text</th>\n",
       "      <th>num_characters</th>\n",
       "    </tr>\n",
       "  </thead>\n",
       "  <tbody>\n",
       "    <tr>\n",
       "      <th>0</th>\n",
       "      <td>0</td>\n",
       "      <td>Go until jurong point, crazy.. Available only ...</td>\n",
       "      <td>111</td>\n",
       "    </tr>\n",
       "    <tr>\n",
       "      <th>1</th>\n",
       "      <td>0</td>\n",
       "      <td>Ok lar... Joking wif u oni...</td>\n",
       "      <td>29</td>\n",
       "    </tr>\n",
       "    <tr>\n",
       "      <th>2</th>\n",
       "      <td>1</td>\n",
       "      <td>Free entry in 2 a wkly comp to win FA Cup fina...</td>\n",
       "      <td>155</td>\n",
       "    </tr>\n",
       "    <tr>\n",
       "      <th>3</th>\n",
       "      <td>0</td>\n",
       "      <td>U dun say so early hor... U c already then say...</td>\n",
       "      <td>49</td>\n",
       "    </tr>\n",
       "    <tr>\n",
       "      <th>4</th>\n",
       "      <td>0</td>\n",
       "      <td>Nah I don't think he goes to usf, he lives aro...</td>\n",
       "      <td>61</td>\n",
       "    </tr>\n",
       "  </tbody>\n",
       "</table>\n",
       "</div>"
      ],
      "text/plain": [
       "   target                                               text  num_characters\n",
       "0       0  Go until jurong point, crazy.. Available only ...             111\n",
       "1       0                      Ok lar... Joking wif u oni...              29\n",
       "2       1  Free entry in 2 a wkly comp to win FA Cup fina...             155\n",
       "3       0  U dun say so early hor... U c already then say...              49\n",
       "4       0  Nah I don't think he goes to usf, he lives aro...              61"
      ]
     },
     "execution_count": 26,
     "metadata": {},
     "output_type": "execute_result"
    }
   ],
   "source": [
    "df.head()"
   ]
  },
  {
   "cell_type": "code",
   "execution_count": 27,
   "id": "823e4015",
   "metadata": {},
   "outputs": [
    {
     "name": "stderr",
     "output_type": "stream",
     "text": [
      "C:\\temp\\ipykernel_30500\\192676766.py:2: SettingWithCopyWarning: \n",
      "A value is trying to be set on a copy of a slice from a DataFrame.\n",
      "Try using .loc[row_indexer,col_indexer] = value instead\n",
      "\n",
      "See the caveats in the documentation: https://pandas.pydata.org/pandas-docs/stable/user_guide/indexing.html#returning-a-view-versus-a-copy\n",
      "  df['num_words'] = df['text'].apply(lambda x:len(nltk.word_tokenize(x)))\n"
     ]
    }
   ],
   "source": [
    "# num of words\n",
    "df['num_words'] = df['text'].apply(lambda x:len(nltk.word_tokenize(x)))"
   ]
  },
  {
   "cell_type": "code",
   "execution_count": 28,
   "id": "8b09a209",
   "metadata": {},
   "outputs": [
    {
     "name": "stderr",
     "output_type": "stream",
     "text": [
      "C:\\temp\\ipykernel_30500\\4112269855.py:1: SettingWithCopyWarning: \n",
      "A value is trying to be set on a copy of a slice from a DataFrame.\n",
      "Try using .loc[row_indexer,col_indexer] = value instead\n",
      "\n",
      "See the caveats in the documentation: https://pandas.pydata.org/pandas-docs/stable/user_guide/indexing.html#returning-a-view-versus-a-copy\n",
      "  df['num_sentences'] = df['text'].apply(lambda x:len(nltk.sent_tokenize(x)))\n"
     ]
    }
   ],
   "source": [
    "df['num_sentences'] = df['text'].apply(lambda x:len(nltk.sent_tokenize(x)))"
   ]
  },
  {
   "cell_type": "code",
   "execution_count": 29,
   "id": "12591415",
   "metadata": {},
   "outputs": [
    {
     "data": {
      "text/html": [
       "<div>\n",
       "<style scoped>\n",
       "    .dataframe tbody tr th:only-of-type {\n",
       "        vertical-align: middle;\n",
       "    }\n",
       "\n",
       "    .dataframe tbody tr th {\n",
       "        vertical-align: top;\n",
       "    }\n",
       "\n",
       "    .dataframe thead th {\n",
       "        text-align: right;\n",
       "    }\n",
       "</style>\n",
       "<table border=\"1\" class=\"dataframe\">\n",
       "  <thead>\n",
       "    <tr style=\"text-align: right;\">\n",
       "      <th></th>\n",
       "      <th>target</th>\n",
       "      <th>text</th>\n",
       "      <th>num_characters</th>\n",
       "      <th>num_words</th>\n",
       "      <th>num_sentences</th>\n",
       "    </tr>\n",
       "  </thead>\n",
       "  <tbody>\n",
       "    <tr>\n",
       "      <th>0</th>\n",
       "      <td>0</td>\n",
       "      <td>Go until jurong point, crazy.. Available only ...</td>\n",
       "      <td>111</td>\n",
       "      <td>24</td>\n",
       "      <td>2</td>\n",
       "    </tr>\n",
       "    <tr>\n",
       "      <th>1</th>\n",
       "      <td>0</td>\n",
       "      <td>Ok lar... Joking wif u oni...</td>\n",
       "      <td>29</td>\n",
       "      <td>8</td>\n",
       "      <td>2</td>\n",
       "    </tr>\n",
       "    <tr>\n",
       "      <th>2</th>\n",
       "      <td>1</td>\n",
       "      <td>Free entry in 2 a wkly comp to win FA Cup fina...</td>\n",
       "      <td>155</td>\n",
       "      <td>37</td>\n",
       "      <td>2</td>\n",
       "    </tr>\n",
       "    <tr>\n",
       "      <th>3</th>\n",
       "      <td>0</td>\n",
       "      <td>U dun say so early hor... U c already then say...</td>\n",
       "      <td>49</td>\n",
       "      <td>13</td>\n",
       "      <td>1</td>\n",
       "    </tr>\n",
       "    <tr>\n",
       "      <th>4</th>\n",
       "      <td>0</td>\n",
       "      <td>Nah I don't think he goes to usf, he lives aro...</td>\n",
       "      <td>61</td>\n",
       "      <td>15</td>\n",
       "      <td>1</td>\n",
       "    </tr>\n",
       "  </tbody>\n",
       "</table>\n",
       "</div>"
      ],
      "text/plain": [
       "   target                                               text  num_characters  \\\n",
       "0       0  Go until jurong point, crazy.. Available only ...             111   \n",
       "1       0                      Ok lar... Joking wif u oni...              29   \n",
       "2       1  Free entry in 2 a wkly comp to win FA Cup fina...             155   \n",
       "3       0  U dun say so early hor... U c already then say...              49   \n",
       "4       0  Nah I don't think he goes to usf, he lives aro...              61   \n",
       "\n",
       "   num_words  num_sentences  \n",
       "0         24              2  \n",
       "1          8              2  \n",
       "2         37              2  \n",
       "3         13              1  \n",
       "4         15              1  "
      ]
     },
     "execution_count": 29,
     "metadata": {},
     "output_type": "execute_result"
    }
   ],
   "source": [
    "df.head()"
   ]
  },
  {
   "cell_type": "code",
   "execution_count": 30,
   "id": "8d66496b",
   "metadata": {},
   "outputs": [
    {
     "data": {
      "text/html": [
       "<div>\n",
       "<style scoped>\n",
       "    .dataframe tbody tr th:only-of-type {\n",
       "        vertical-align: middle;\n",
       "    }\n",
       "\n",
       "    .dataframe tbody tr th {\n",
       "        vertical-align: top;\n",
       "    }\n",
       "\n",
       "    .dataframe thead th {\n",
       "        text-align: right;\n",
       "    }\n",
       "</style>\n",
       "<table border=\"1\" class=\"dataframe\">\n",
       "  <thead>\n",
       "    <tr style=\"text-align: right;\">\n",
       "      <th></th>\n",
       "      <th>num_characters</th>\n",
       "      <th>num_words</th>\n",
       "      <th>num_sentences</th>\n",
       "    </tr>\n",
       "  </thead>\n",
       "  <tbody>\n",
       "    <tr>\n",
       "      <th>count</th>\n",
       "      <td>5169.000000</td>\n",
       "      <td>5169.000000</td>\n",
       "      <td>5169.000000</td>\n",
       "    </tr>\n",
       "    <tr>\n",
       "      <th>mean</th>\n",
       "      <td>78.977945</td>\n",
       "      <td>18.455794</td>\n",
       "      <td>1.965564</td>\n",
       "    </tr>\n",
       "    <tr>\n",
       "      <th>std</th>\n",
       "      <td>58.236293</td>\n",
       "      <td>13.324758</td>\n",
       "      <td>1.448541</td>\n",
       "    </tr>\n",
       "    <tr>\n",
       "      <th>min</th>\n",
       "      <td>2.000000</td>\n",
       "      <td>1.000000</td>\n",
       "      <td>1.000000</td>\n",
       "    </tr>\n",
       "    <tr>\n",
       "      <th>25%</th>\n",
       "      <td>36.000000</td>\n",
       "      <td>9.000000</td>\n",
       "      <td>1.000000</td>\n",
       "    </tr>\n",
       "    <tr>\n",
       "      <th>50%</th>\n",
       "      <td>60.000000</td>\n",
       "      <td>15.000000</td>\n",
       "      <td>1.000000</td>\n",
       "    </tr>\n",
       "    <tr>\n",
       "      <th>75%</th>\n",
       "      <td>117.000000</td>\n",
       "      <td>26.000000</td>\n",
       "      <td>2.000000</td>\n",
       "    </tr>\n",
       "    <tr>\n",
       "      <th>max</th>\n",
       "      <td>910.000000</td>\n",
       "      <td>220.000000</td>\n",
       "      <td>38.000000</td>\n",
       "    </tr>\n",
       "  </tbody>\n",
       "</table>\n",
       "</div>"
      ],
      "text/plain": [
       "       num_characters    num_words  num_sentences\n",
       "count     5169.000000  5169.000000    5169.000000\n",
       "mean        78.977945    18.455794       1.965564\n",
       "std         58.236293    13.324758       1.448541\n",
       "min          2.000000     1.000000       1.000000\n",
       "25%         36.000000     9.000000       1.000000\n",
       "50%         60.000000    15.000000       1.000000\n",
       "75%        117.000000    26.000000       2.000000\n",
       "max        910.000000   220.000000      38.000000"
      ]
     },
     "execution_count": 30,
     "metadata": {},
     "output_type": "execute_result"
    }
   ],
   "source": [
    "df[['num_characters','num_words','num_sentences']].describe()"
   ]
  },
  {
   "cell_type": "code",
   "execution_count": 31,
   "id": "f72eed7e",
   "metadata": {},
   "outputs": [
    {
     "data": {
      "text/html": [
       "<div>\n",
       "<style scoped>\n",
       "    .dataframe tbody tr th:only-of-type {\n",
       "        vertical-align: middle;\n",
       "    }\n",
       "\n",
       "    .dataframe tbody tr th {\n",
       "        vertical-align: top;\n",
       "    }\n",
       "\n",
       "    .dataframe thead th {\n",
       "        text-align: right;\n",
       "    }\n",
       "</style>\n",
       "<table border=\"1\" class=\"dataframe\">\n",
       "  <thead>\n",
       "    <tr style=\"text-align: right;\">\n",
       "      <th></th>\n",
       "      <th>num_characters</th>\n",
       "      <th>num_words</th>\n",
       "      <th>num_sentences</th>\n",
       "    </tr>\n",
       "  </thead>\n",
       "  <tbody>\n",
       "    <tr>\n",
       "      <th>count</th>\n",
       "      <td>4516.000000</td>\n",
       "      <td>4516.000000</td>\n",
       "      <td>4516.000000</td>\n",
       "    </tr>\n",
       "    <tr>\n",
       "      <th>mean</th>\n",
       "      <td>70.459256</td>\n",
       "      <td>17.123782</td>\n",
       "      <td>1.820195</td>\n",
       "    </tr>\n",
       "    <tr>\n",
       "      <th>std</th>\n",
       "      <td>56.358207</td>\n",
       "      <td>13.493970</td>\n",
       "      <td>1.383657</td>\n",
       "    </tr>\n",
       "    <tr>\n",
       "      <th>min</th>\n",
       "      <td>2.000000</td>\n",
       "      <td>1.000000</td>\n",
       "      <td>1.000000</td>\n",
       "    </tr>\n",
       "    <tr>\n",
       "      <th>25%</th>\n",
       "      <td>34.000000</td>\n",
       "      <td>8.000000</td>\n",
       "      <td>1.000000</td>\n",
       "    </tr>\n",
       "    <tr>\n",
       "      <th>50%</th>\n",
       "      <td>52.000000</td>\n",
       "      <td>13.000000</td>\n",
       "      <td>1.000000</td>\n",
       "    </tr>\n",
       "    <tr>\n",
       "      <th>75%</th>\n",
       "      <td>90.000000</td>\n",
       "      <td>22.000000</td>\n",
       "      <td>2.000000</td>\n",
       "    </tr>\n",
       "    <tr>\n",
       "      <th>max</th>\n",
       "      <td>910.000000</td>\n",
       "      <td>220.000000</td>\n",
       "      <td>38.000000</td>\n",
       "    </tr>\n",
       "  </tbody>\n",
       "</table>\n",
       "</div>"
      ],
      "text/plain": [
       "       num_characters    num_words  num_sentences\n",
       "count     4516.000000  4516.000000    4516.000000\n",
       "mean        70.459256    17.123782       1.820195\n",
       "std         56.358207    13.493970       1.383657\n",
       "min          2.000000     1.000000       1.000000\n",
       "25%         34.000000     8.000000       1.000000\n",
       "50%         52.000000    13.000000       1.000000\n",
       "75%         90.000000    22.000000       2.000000\n",
       "max        910.000000   220.000000      38.000000"
      ]
     },
     "execution_count": 31,
     "metadata": {},
     "output_type": "execute_result"
    }
   ],
   "source": [
    "# ham\n",
    "df[df['target'] == 0][['num_characters','num_words','num_sentences']].describe()"
   ]
  },
  {
   "cell_type": "code",
   "execution_count": 32,
   "id": "e8294b55",
   "metadata": {},
   "outputs": [
    {
     "data": {
      "text/html": [
       "<div>\n",
       "<style scoped>\n",
       "    .dataframe tbody tr th:only-of-type {\n",
       "        vertical-align: middle;\n",
       "    }\n",
       "\n",
       "    .dataframe tbody tr th {\n",
       "        vertical-align: top;\n",
       "    }\n",
       "\n",
       "    .dataframe thead th {\n",
       "        text-align: right;\n",
       "    }\n",
       "</style>\n",
       "<table border=\"1\" class=\"dataframe\">\n",
       "  <thead>\n",
       "    <tr style=\"text-align: right;\">\n",
       "      <th></th>\n",
       "      <th>num_characters</th>\n",
       "      <th>num_words</th>\n",
       "      <th>num_sentences</th>\n",
       "    </tr>\n",
       "  </thead>\n",
       "  <tbody>\n",
       "    <tr>\n",
       "      <th>count</th>\n",
       "      <td>653.000000</td>\n",
       "      <td>653.000000</td>\n",
       "      <td>653.000000</td>\n",
       "    </tr>\n",
       "    <tr>\n",
       "      <th>mean</th>\n",
       "      <td>137.891271</td>\n",
       "      <td>27.667688</td>\n",
       "      <td>2.970904</td>\n",
       "    </tr>\n",
       "    <tr>\n",
       "      <th>std</th>\n",
       "      <td>30.137753</td>\n",
       "      <td>7.008418</td>\n",
       "      <td>1.488425</td>\n",
       "    </tr>\n",
       "    <tr>\n",
       "      <th>min</th>\n",
       "      <td>13.000000</td>\n",
       "      <td>2.000000</td>\n",
       "      <td>1.000000</td>\n",
       "    </tr>\n",
       "    <tr>\n",
       "      <th>25%</th>\n",
       "      <td>132.000000</td>\n",
       "      <td>25.000000</td>\n",
       "      <td>2.000000</td>\n",
       "    </tr>\n",
       "    <tr>\n",
       "      <th>50%</th>\n",
       "      <td>149.000000</td>\n",
       "      <td>29.000000</td>\n",
       "      <td>3.000000</td>\n",
       "    </tr>\n",
       "    <tr>\n",
       "      <th>75%</th>\n",
       "      <td>157.000000</td>\n",
       "      <td>32.000000</td>\n",
       "      <td>4.000000</td>\n",
       "    </tr>\n",
       "    <tr>\n",
       "      <th>max</th>\n",
       "      <td>224.000000</td>\n",
       "      <td>46.000000</td>\n",
       "      <td>9.000000</td>\n",
       "    </tr>\n",
       "  </tbody>\n",
       "</table>\n",
       "</div>"
      ],
      "text/plain": [
       "       num_characters   num_words  num_sentences\n",
       "count      653.000000  653.000000     653.000000\n",
       "mean       137.891271   27.667688       2.970904\n",
       "std         30.137753    7.008418       1.488425\n",
       "min         13.000000    2.000000       1.000000\n",
       "25%        132.000000   25.000000       2.000000\n",
       "50%        149.000000   29.000000       3.000000\n",
       "75%        157.000000   32.000000       4.000000\n",
       "max        224.000000   46.000000       9.000000"
      ]
     },
     "execution_count": 32,
     "metadata": {},
     "output_type": "execute_result"
    }
   ],
   "source": [
    "#spam\n",
    "df[df['target'] == 1][['num_characters','num_words','num_sentences']].describe()"
   ]
  },
  {
   "cell_type": "code",
   "execution_count": 35,
   "id": "bcb316a8",
   "metadata": {},
   "outputs": [],
   "source": [
    "import seaborn as sns"
   ]
  },
  {
   "cell_type": "code",
   "execution_count": 34,
   "id": "3875972c",
   "metadata": {},
   "outputs": [
    {
     "name": "stdout",
     "output_type": "stream",
     "text": [
      "Collecting seaborn\n",
      "  Obtaining dependency information for seaborn from https://files.pythonhosted.org/packages/7b/e5/83fcd7e9db036c179e0352bfcd20f81d728197a16f883e7b90307a88e65e/seaborn-0.13.0-py3-none-any.whl.metadata\n",
      "  Downloading seaborn-0.13.0-py3-none-any.whl.metadata (5.3 kB)\n",
      "Requirement already satisfied: numpy!=1.24.0,>=1.20 in c:\\users\\anshuman samanta\\appdata\\local\\programs\\python\\python310\\lib\\site-packages (from seaborn) (1.23.1)\n",
      "Requirement already satisfied: pandas>=1.2 in c:\\users\\anshuman samanta\\appdata\\local\\programs\\python\\python310\\lib\\site-packages (from seaborn) (1.4.3)\n",
      "Requirement already satisfied: matplotlib!=3.6.1,>=3.3 in c:\\users\\anshuman samanta\\appdata\\local\\programs\\python\\python310\\lib\\site-packages (from seaborn) (3.7.1)\n",
      "Requirement already satisfied: contourpy>=1.0.1 in c:\\users\\anshuman samanta\\appdata\\local\\programs\\python\\python310\\lib\\site-packages (from matplotlib!=3.6.1,>=3.3->seaborn) (1.0.7)\n",
      "Requirement already satisfied: cycler>=0.10 in c:\\users\\anshuman samanta\\appdata\\local\\programs\\python\\python310\\lib\\site-packages (from matplotlib!=3.6.1,>=3.3->seaborn) (0.11.0)\n",
      "Requirement already satisfied: fonttools>=4.22.0 in c:\\users\\anshuman samanta\\appdata\\local\\programs\\python\\python310\\lib\\site-packages (from matplotlib!=3.6.1,>=3.3->seaborn) (4.39.4)\n",
      "Requirement already satisfied: kiwisolver>=1.0.1 in c:\\users\\anshuman samanta\\appdata\\local\\programs\\python\\python310\\lib\\site-packages (from matplotlib!=3.6.1,>=3.3->seaborn) (1.4.4)\n",
      "Requirement already satisfied: packaging>=20.0 in c:\\users\\anshuman samanta\\appdata\\local\\programs\\python\\python310\\lib\\site-packages (from matplotlib!=3.6.1,>=3.3->seaborn) (21.3)\n",
      "Requirement already satisfied: pillow>=6.2.0 in c:\\users\\anshuman samanta\\appdata\\local\\programs\\python\\python310\\lib\\site-packages (from matplotlib!=3.6.1,>=3.3->seaborn) (9.2.0)\n",
      "Requirement already satisfied: pyparsing>=2.3.1 in c:\\users\\anshuman samanta\\appdata\\local\\programs\\python\\python310\\lib\\site-packages (from matplotlib!=3.6.1,>=3.3->seaborn) (3.0.9)\n",
      "Requirement already satisfied: python-dateutil>=2.7 in c:\\users\\anshuman samanta\\appdata\\local\\programs\\python\\python310\\lib\\site-packages (from matplotlib!=3.6.1,>=3.3->seaborn) (2.8.2)\n",
      "Requirement already satisfied: pytz>=2020.1 in c:\\users\\anshuman samanta\\appdata\\local\\programs\\python\\python310\\lib\\site-packages (from pandas>=1.2->seaborn) (2022.1)\n",
      "Requirement already satisfied: six>=1.5 in c:\\users\\anshuman samanta\\appdata\\local\\programs\\python\\python310\\lib\\site-packages (from python-dateutil>=2.7->matplotlib!=3.6.1,>=3.3->seaborn) (1.16.0)\n",
      "Downloading seaborn-0.13.0-py3-none-any.whl (294 kB)\n",
      "   ---------------------------------------- 294.6/294.6 kB 2.3 MB/s eta 0:00:00\n",
      "Installing collected packages: seaborn\n",
      "Successfully installed seaborn-0.13.0\n"
     ]
    },
    {
     "name": "stderr",
     "output_type": "stream",
     "text": [
      "\n",
      "[notice] A new release of pip is available: 23.2.1 -> 23.3.1\n",
      "[notice] To update, run: python.exe -m pip install --upgrade pip\n"
     ]
    }
   ],
   "source": [
    "!pip install seaborn"
   ]
  },
  {
   "cell_type": "code",
   "execution_count": 36,
   "id": "5dbf42aa",
   "metadata": {},
   "outputs": [
    {
     "data": {
      "text/plain": [
       "<Axes: xlabel='num_characters', ylabel='Count'>"
      ]
     },
     "execution_count": 36,
     "metadata": {},
     "output_type": "execute_result"
    },
    {
     "data": {
      "image/png": "[encoded data removed]",
      "text/plain": [
       "<Figure size 864x432 with 1 Axes>"
      ]
     },
     "metadata": {
      "needs_background": "light"
     },
     "output_type": "display_data"
    }
   ],
   "source": [
    "plt.figure(figsize=(12,6))\n",
    "sns.histplot(df[df['target'] == 0]['num_characters'])\n",
    "sns.histplot(df[df['target'] == 1]['num_characters'],color='red')"
   ]
  },
  {
   "cell_type": "code",
   "execution_count": 37,
   "id": "5a66dc7d",
   "metadata": {},
   "outputs": [
    {
     "data": {
      "text/plain": [
       "<Axes: xlabel='num_words', ylabel='Count'>"
      ]
     },
     "execution_count": 37,
     "metadata": {},
     "output_type": "execute_result"
    },
    {
     "data": {
      "image/png": "[encoded data removed]",
      "text/plain": [
       "<Figure size 864x432 with 1 Axes>"
      ]
     },
     "metadata": {
      "needs_background": "light"
     },
     "output_type": "display_data"
    }
   ],
   "source": [
    "plt.figure(figsize=(12,6))\n",
    "sns.histplot(df[df['target'] == 0]['num_words'])\n",
    "sns.histplot(df[df['target'] == 1]['num_words'],color='red')"
   ]
  },
  {
   "cell_type": "code",
   "execution_count": 38,
   "id": "9f4479dc",
   "metadata": {},
   "outputs": [
    {
     "data": {
      "text/plain": [
       "<seaborn.axisgrid.PairGrid at 0x19e7150e140>"
      ]
     },
     "execution_count": 38,
     "metadata": {},
     "output_type": "execute_result"
    },
    {
     "data": {
      "image/png": "[encoded data removed]",
      "text/plain": [
       "<Figure size 582.375x540 with 12 Axes>"
      ]
     },
     "metadata": {
      "needs_background": "light"
     },
     "output_type": "display_data"
    }
   ],
   "source": [
    "sns.pairplot(df,hue='target')"
   ]
  },
  {
   "cell_type": "code",
   "execution_count": 39,
   "id": "d4777bd0",
   "metadata": {},
   "outputs": [
    {
     "data": {
      "text/plain": [
       "<Axes: >"
      ]
     },
     "execution_count": 39,
     "metadata": {},
     "output_type": "execute_result"
    },
    {
     "data": {
      "image/png": "[encoded data removed]",
      "text/plain": [
       "<Figure size 432x288 with 2 Axes>"
      ]
     },
     "metadata": {
      "needs_background": "light"
     },
     "output_type": "display_data"
    }
   ],
   "source": [
    "sns.heatmap(df.corr(),annot=True)"
   ]
  },
  {
   "cell_type": "markdown",
   "id": "4a8b43b9",
   "metadata": {},
   "source": [
    "3. Data Preprocessing\n",
    "Lower case\n",
    "Tokenization\n",
    "Removing special characters\n",
    "Removing stop words and punctuation\n",
    "Stemming"
   ]
  },
  {
   "cell_type": "code",
   "execution_count": 49,
   "id": "cc9d0565",
   "metadata": {},
   "outputs": [],
   "source": [
    "import string"
   ]
  },
  {
   "cell_type": "code",
   "execution_count": 52,
   "id": "c0215936",
   "metadata": {},
   "outputs": [
    {
     "data": {
      "text/plain": [
       "'love'"
      ]
     },
     "execution_count": 52,
     "metadata": {},
     "output_type": "execute_result"
    }
   ],
   "source": [
    "from nltk.stem.porter import PorterStemmer\n",
    "ps = PorterStemmer()\n",
    "ps.stem('loving')"
   ]
  },
  {
   "cell_type": "code",
   "execution_count": 53,
   "id": "f69281cd",
   "metadata": {},
   "outputs": [],
   "source": [
    "import nltk\n",
    "from nltk.corpus import stopwords\n",
    "#nltk.download('stopwords')\n",
    "def transform_text(text):\n",
    "    text = text.lower()\n",
    "    text = nltk.word_tokenize(text)\n",
    "    \n",
    "    y = []\n",
    "    for i in text:\n",
    "        if i.isalnum():\n",
    "            y.append(i)\n",
    "    \n",
    "    text = y[:]\n",
    "    y.clear()\n",
    "    \n",
    "    for i in text:\n",
    "        if i not in stopwords.words('english') and i not in string.punctuation:\n",
    "            y.append(i)\n",
    "            \n",
    "    text = y[:]\n",
    "    y.clear()\n",
    "    \n",
    "    for i in text:\n",
    "        y.append(ps.stem(i))\n",
    "    \n",
    "            \n",
    "    return \" \".join(y)"
   ]
  },
  {
   "cell_type": "code",
   "execution_count": 54,
   "id": "1486c80b",
   "metadata": {},
   "outputs": [
    {
     "data": {
      "text/plain": [
       "'gon na home soon want talk stuff anymor tonight k cri enough today'"
      ]
     },
     "execution_count": 54,
     "metadata": {},
     "output_type": "execute_result"
    }
   ],
   "source": [
    "transform_text(\"I'm gonna be home soon and i don't want to talk about this stuff anymore tonight, k? I've cried enough today.\")"
   ]
  },
  {
   "cell_type": "code",
   "execution_count": null,
   "id": "838129c6",
   "metadata": {},
   "outputs": [],
   "source": []
  },
  {
   "cell_type": "code",
   "execution_count": 44,
   "id": "7b4c93af",
   "metadata": {},
   "outputs": [
    {
     "name": "stdout",
     "output_type": "stream",
     "text": [
      "Requirement already satisfied: nltk in c:\\users\\anshuman samanta\\appdata\\local\\programs\\python\\python310\\lib\\site-packages (3.8.1)\n",
      "Requirement already satisfied: click in c:\\users\\anshuman samanta\\appdata\\local\\programs\\python\\python310\\lib\\site-packages (from nltk) (8.0.3)\n",
      "Requirement already satisfied: joblib in c:\\users\\anshuman samanta\\appdata\\local\\programs\\python\\python310\\lib\\site-packages (from nltk) (1.2.0)\n",
      "Requirement already satisfied: regex>=2021.8.3 in c:\\users\\anshuman samanta\\appdata\\local\\programs\\python\\python310\\lib\\site-packages (from nltk) (2023.8.8)\n",
      "Requirement already satisfied: tqdm in c:\\users\\anshuman samanta\\appdata\\local\\programs\\python\\python310\\lib\\site-packages (from nltk) (4.66.1)\n",
      "Requirement already satisfied: colorama in c:\\users\\anshuman samanta\\appdata\\local\\programs\\python\\python310\\lib\\site-packages (from click->nltk) (0.4.4)\n"
     ]
    },
    {
     "name": "stderr",
     "output_type": "stream",
     "text": [
      "\n",
      "[notice] A new release of pip is available: 23.2.1 -> 23.3.1\n",
      "[notice] To update, run: python.exe -m pip install --upgrade pip\n"
     ]
    }
   ],
   "source": [
    "!pip install nltk"
   ]
  },
  {
   "cell_type": "code",
   "execution_count": 55,
   "id": "6b97263d",
   "metadata": {},
   "outputs": [
    {
     "name": "stderr",
     "output_type": "stream",
     "text": [
      "C:\\temp\\ipykernel_30500\\283536690.py:1: SettingWithCopyWarning: \n",
      "A value is trying to be set on a copy of a slice from a DataFrame.\n",
      "Try using .loc[row_indexer,col_indexer] = value instead\n",
      "\n",
      "See the caveats in the documentation: https://pandas.pydata.org/pandas-docs/stable/user_guide/indexing.html#returning-a-view-versus-a-copy\n",
      "  df['transformed_text'] = df['text'].apply(transform_text)\n"
     ]
    }
   ],
   "source": [
    "df['transformed_text'] = df['text'].apply(transform_text)"
   ]
  },
  {
   "cell_type": "code",
   "execution_count": 56,
   "id": "a37de1ae",
   "metadata": {},
   "outputs": [
    {
     "data": {
      "text/html": [
       "<div>\n",
       "<style scoped>\n",
       "    .dataframe tbody tr th:only-of-type {\n",
       "        vertical-align: middle;\n",
       "    }\n",
       "\n",
       "    .dataframe tbody tr th {\n",
       "        vertical-align: top;\n",
       "    }\n",
       "\n",
       "    .dataframe thead th {\n",
       "        text-align: right;\n",
       "    }\n",
       "</style>\n",
       "<table border=\"1\" class=\"dataframe\">\n",
       "  <thead>\n",
       "    <tr style=\"text-align: right;\">\n",
       "      <th></th>\n",
       "      <th>target</th>\n",
       "      <th>text</th>\n",
       "      <th>num_characters</th>\n",
       "      <th>num_words</th>\n",
       "      <th>num_sentences</th>\n",
       "      <th>transformed_text</th>\n",
       "    </tr>\n",
       "  </thead>\n",
       "  <tbody>\n",
       "    <tr>\n",
       "      <th>0</th>\n",
       "      <td>0</td>\n",
       "      <td>Go until jurong point, crazy.. Available only ...</td>\n",
       "      <td>111</td>\n",
       "      <td>24</td>\n",
       "      <td>2</td>\n",
       "      <td>go jurong point crazi avail bugi n great world...</td>\n",
       "    </tr>\n",
       "    <tr>\n",
       "      <th>1</th>\n",
       "      <td>0</td>\n",
       "      <td>Ok lar... Joking wif u oni...</td>\n",
       "      <td>29</td>\n",
       "      <td>8</td>\n",
       "      <td>2</td>\n",
       "      <td>ok lar joke wif u oni</td>\n",
       "    </tr>\n",
       "    <tr>\n",
       "      <th>2</th>\n",
       "      <td>1</td>\n",
       "      <td>Free entry in 2 a wkly comp to win FA Cup fina...</td>\n",
       "      <td>155</td>\n",
       "      <td>37</td>\n",
       "      <td>2</td>\n",
       "      <td>free entri 2 wkli comp win fa cup final tkt 21...</td>\n",
       "    </tr>\n",
       "    <tr>\n",
       "      <th>3</th>\n",
       "      <td>0</td>\n",
       "      <td>U dun say so early hor... U c already then say...</td>\n",
       "      <td>49</td>\n",
       "      <td>13</td>\n",
       "      <td>1</td>\n",
       "      <td>u dun say earli hor u c alreadi say</td>\n",
       "    </tr>\n",
       "    <tr>\n",
       "      <th>4</th>\n",
       "      <td>0</td>\n",
       "      <td>Nah I don't think he goes to usf, he lives aro...</td>\n",
       "      <td>61</td>\n",
       "      <td>15</td>\n",
       "      <td>1</td>\n",
       "      <td>nah think goe usf live around though</td>\n",
       "    </tr>\n",
       "  </tbody>\n",
       "</table>\n",
       "</div>"
      ],
      "text/plain": [
       "   target                                               text  num_characters  \\\n",
       "0       0  Go until jurong point, crazy.. Available only ...             111   \n",
       "1       0                      Ok lar... Joking wif u oni...              29   \n",
       "2       1  Free entry in 2 a wkly comp to win FA Cup fina...             155   \n",
       "3       0  U dun say so early hor... U c already then say...              49   \n",
       "4       0  Nah I don't think he goes to usf, he lives aro...              61   \n",
       "\n",
       "   num_words  num_sentences                                   transformed_text  \n",
       "0         24              2  go jurong point crazi avail bugi n great world...  \n",
       "1          8              2                              ok lar joke wif u oni  \n",
       "2         37              2  free entri 2 wkli comp win fa cup final tkt 21...  \n",
       "3         13              1                u dun say earli hor u c alreadi say  \n",
       "4         15              1               nah think goe usf live around though  "
      ]
     },
     "execution_count": 56,
     "metadata": {},
     "output_type": "execute_result"
    }
   ],
   "source": [
    "df.head()"
   ]
  },
  {
   "cell_type": "code",
   "execution_count": 59,
   "id": "d0161704",
   "metadata": {},
   "outputs": [
    {
     "name": "stdout",
     "output_type": "stream",
     "text": [
      "Collecting wordcloud\n",
      "  Obtaining dependency information for wordcloud from https://files.pythonhosted.org/packages/5a/5f/f4164295d6853ec6203bc728dea4da76a7145ba70482eab9e994d26e0e13/wordcloud-1.9.2-cp310-cp310-win_amd64.whl.metadata\n",
      "  Downloading wordcloud-1.9.2-cp310-cp310-win_amd64.whl.metadata (3.4 kB)\n",
      "Requirement already satisfied: numpy>=1.6.1 in c:\\users\\anshuman samanta\\appdata\\local\\programs\\python\\python310\\lib\\site-packages (from wordcloud) (1.23.1)\n",
      "Requirement already satisfied: pillow in c:\\users\\anshuman samanta\\appdata\\local\\programs\\python\\python310\\lib\\site-packages (from wordcloud) (9.2.0)\n",
      "Requirement already satisfied: matplotlib in c:\\users\\anshuman samanta\\appdata\\local\\programs\\python\\python310\\lib\\site-packages (from wordcloud) (3.7.1)\n",
      "Requirement already satisfied: contourpy>=1.0.1 in c:\\users\\anshuman samanta\\appdata\\local\\programs\\python\\python310\\lib\\site-packages (from matplotlib->wordcloud) (1.0.7)\n",
      "Requirement already satisfied: cycler>=0.10 in c:\\users\\anshuman samanta\\appdata\\local\\programs\\python\\python310\\lib\\site-packages (from matplotlib->wordcloud) (0.11.0)\n",
      "Requirement already satisfied: fonttools>=4.22.0 in c:\\users\\anshuman samanta\\appdata\\local\\programs\\python\\python310\\lib\\site-packages (from matplotlib->wordcloud) (4.39.4)\n",
      "Requirement already satisfied: kiwisolver>=1.0.1 in c:\\users\\anshuman samanta\\appdata\\local\\programs\\python\\python310\\lib\\site-packages (from matplotlib->wordcloud) (1.4.4)\n",
      "Requirement already satisfied: packaging>=20.0 in c:\\users\\anshuman samanta\\appdata\\local\\programs\\python\\python310\\lib\\site-packages (from matplotlib->wordcloud) (21.3)\n",
      "Requirement already satisfied: pyparsing>=2.3.1 in c:\\users\\anshuman samanta\\appdata\\local\\programs\\python\\python310\\lib\\site-packages (from matplotlib->wordcloud) (3.0.9)\n",
      "Requirement already satisfied: python-dateutil>=2.7 in c:\\users\\anshuman samanta\\appdata\\local\\programs\\python\\python310\\lib\\site-packages (from matplotlib->wordcloud) (2.8.2)\n",
      "Requirement already satisfied: six>=1.5 in c:\\users\\anshuman samanta\\appdata\\local\\programs\\python\\python310\\lib\\site-packages (from python-dateutil>=2.7->matplotlib->wordcloud) (1.16.0)\n",
      "Downloading wordcloud-1.9.2-cp310-cp310-win_amd64.whl (152 kB)\n",
      "   ---------------------------------------- 152.1/152.1 kB 1.3 MB/s eta 0:00:00\n",
      "Installing collected packages: wordcloud\n",
      "Successfully installed wordcloud-1.9.2\n"
     ]
    },
    {
     "name": "stderr",
     "output_type": "stream",
     "text": [
      "\n",
      "[notice] A new release of pip is available: 23.2.1 -> 23.3.1\n",
      "[notice] To update, run: python.exe -m pip install --upgrade pip\n"
     ]
    }
   ],
   "source": [
    "!pip install wordcloud"
   ]
  },
  {
   "cell_type": "code",
   "execution_count": 60,
   "id": "c2ed7fc9",
   "metadata": {},
   "outputs": [],
   "source": [
    "from wordcloud import WordCloud\n",
    "wc = WordCloud(width=500,height=500,min_font_size=10,background_color='white')"
   ]
  },
  {
   "cell_type": "code",
   "execution_count": 61,
   "id": "8e342152",
   "metadata": {},
   "outputs": [],
   "source": [
    "spam_wc = wc.generate(df[df['target'] == 1]['transformed_text'].str.cat(sep=\" \"))"
   ]
  },
  {
   "cell_type": "code",
   "execution_count": 62,
   "id": "5fdb43c6",
   "metadata": {},
   "outputs": [
    {
     "data": {
      "text/plain": [
       "<matplotlib.image.AxesImage at 0x19e759810c0>"
      ]
     },
     "execution_count": 62,
     "metadata": {},
     "output_type": "execute_result"
    },
    {
     "data": {
      "image/png": "[encoded data removed]",
      "text/plain": [
       "<Figure size 1080x432 with 1 Axes>"
      ]
     },
     "metadata": {
      "needs_background": "light"
     },
     "output_type": "display_data"
    }
   ],
   "source": [
    "plt.figure(figsize=(15,6))\n",
    "plt.imshow(spam_wc)"
   ]
  },
  {
   "cell_type": "code",
   "execution_count": 63,
   "id": "6eae2cce",
   "metadata": {},
   "outputs": [],
   "source": [
    "ham_wc = wc.generate(df[df['target'] == 0]['transformed_text'].str.cat(sep=\" \"))"
   ]
  },
  {
   "cell_type": "code",
   "execution_count": 64,
   "id": "90c38e00",
   "metadata": {},
   "outputs": [
    {
     "data": {
      "text/plain": [
       "<matplotlib.image.AxesImage at 0x19e75acaec0>"
      ]
     },
     "execution_count": 64,
     "metadata": {},
     "output_type": "execute_result"
    },
    {
     "data": {
      "image/png": "[encoded data removed]",
      "text/plain": [
       "<Figure size 1080x432 with 1 Axes>"
      ]
     },
     "metadata": {
      "needs_background": "light"
     },
     "output_type": "display_data"
    }
   ],
   "source": [
    "plt.figure(figsize=(15,6))\n",
    "plt.imshow(ham_wc)"
   ]
  },
  {
   "cell_type": "code",
   "execution_count": 73,
   "id": "896c05eb",
   "metadata": {},
   "outputs": [],
   "source": [
    "spam_corpus = []\n",
    "for msg in df[df['target'] == 1]['transformed_text'].tolist():\n",
    "    for word in msg.split():\n",
    "        spam_corpus.append(word)\n",
    "        \n",
    "#this create a list and push all the spam words"
   ]
  },
  {
   "cell_type": "code",
   "execution_count": 74,
   "id": "81275b60",
   "metadata": {},
   "outputs": [
    {
     "data": {
      "text/plain": [
       "['free',\n",
       " 'entri',\n",
       " '2',\n",
       " 'wkli',\n",
       " 'comp',\n",
       " 'win',\n",
       " 'fa',\n",
       " 'cup',\n",
       " 'final',\n",
       " 'tkt',\n",
       " '21st',\n",
       " 'may',\n",
       " 'text',\n",
       " 'fa',\n",
       " '87121',\n",
       " 'receiv',\n",
       " 'entri',\n",
       " 'question',\n",
       " 'std',\n",
       " 'txt',\n",
       " 'rate',\n",
       " 'c',\n",
       " 'appli',\n",
       " '08452810075over18',\n",
       " 'freemsg',\n",
       " 'hey',\n",
       " 'darl',\n",
       " '3',\n",
       " 'week',\n",
       " 'word',\n",
       " 'back',\n",
       " 'like',\n",
       " 'fun',\n",
       " 'still',\n",
       " 'tb',\n",
       " 'ok',\n",
       " 'xxx',\n",
       " 'std',\n",
       " 'chg',\n",
       " 'send',\n",
       " 'rcv',\n",
       " 'winner',\n",
       " 'valu',\n",
       " 'network',\n",
       " 'custom',\n",
       " 'select',\n",
       " 'receivea',\n",
       " 'prize',\n",
       " 'reward',\n",
       " 'claim',\n",
       " 'call',\n",
       " 'claim',\n",
       " 'code',\n",
       " 'kl341',\n",
       " 'valid',\n",
       " '12',\n",
       " 'hour',\n",
       " 'mobil',\n",
       " '11',\n",
       " 'month',\n",
       " 'u',\n",
       " 'r',\n",
       " 'entitl',\n",
       " 'updat',\n",
       " 'latest',\n",
       " 'colour',\n",
       " 'mobil',\n",
       " 'camera',\n",
       " 'free',\n",
       " 'call',\n",
       " 'mobil',\n",
       " 'updat',\n",
       " 'co',\n",
       " 'free',\n",
       " '08002986030',\n",
       " 'six',\n",
       " 'chanc',\n",
       " 'win',\n",
       " 'cash',\n",
       " '100',\n",
       " 'pound',\n",
       " 'txt',\n",
       " 'csh11',\n",
       " 'send',\n",
       " 'cost',\n",
       " '6day',\n",
       " 'tsandc',\n",
       " 'appli',\n",
       " 'repli',\n",
       " 'hl',\n",
       " '4',\n",
       " 'info',\n",
       " 'urgent',\n",
       " '1',\n",
       " 'week',\n",
       " 'free',\n",
       " 'membership',\n",
       " 'prize',\n",
       " 'jackpot',\n",
       " 'txt',\n",
       " 'word',\n",
       " 'claim',\n",
       " '81010',\n",
       " 'c',\n",
       " 'lccltd',\n",
       " 'pobox',\n",
       " '4403ldnw1a7rw18',\n",
       " 'xxxmobilemovieclub',\n",
       " 'use',\n",
       " 'credit',\n",
       " 'click',\n",
       " 'wap',\n",
       " 'link',\n",
       " 'next',\n",
       " 'txt',\n",
       " 'messag',\n",
       " 'click',\n",
       " 'http',\n",
       " 'england',\n",
       " 'v',\n",
       " 'macedonia',\n",
       " 'dont',\n",
       " 'miss',\n",
       " 'news',\n",
       " 'txt',\n",
       " 'ur',\n",
       " 'nation',\n",
       " 'team',\n",
       " '87077',\n",
       " 'eg',\n",
       " 'england',\n",
       " '87077',\n",
       " 'tri',\n",
       " 'wale',\n",
       " 'scotland',\n",
       " 'poboxox36504w45wq',\n",
       " 'thank',\n",
       " 'subscript',\n",
       " 'rington',\n",
       " 'uk',\n",
       " 'mobil',\n",
       " 'charg',\n",
       " 'pleas',\n",
       " 'confirm',\n",
       " 'repli',\n",
       " 'ye',\n",
       " 'repli',\n",
       " 'charg',\n",
       " '07732584351',\n",
       " 'rodger',\n",
       " 'burn',\n",
       " 'msg',\n",
       " 'tri',\n",
       " 'call',\n",
       " 'repli',\n",
       " 'sm',\n",
       " 'free',\n",
       " 'nokia',\n",
       " 'mobil',\n",
       " 'free',\n",
       " 'camcord',\n",
       " 'pleas',\n",
       " 'call',\n",
       " '08000930705',\n",
       " 'deliveri',\n",
       " 'tomorrow',\n",
       " 'sm',\n",
       " 'ac',\n",
       " 'sptv',\n",
       " 'new',\n",
       " 'jersey',\n",
       " 'devil',\n",
       " 'detroit',\n",
       " 'red',\n",
       " 'wing',\n",
       " 'play',\n",
       " 'ice',\n",
       " 'hockey',\n",
       " 'correct',\n",
       " 'incorrect',\n",
       " 'end',\n",
       " 'repli',\n",
       " 'end',\n",
       " 'sptv',\n",
       " 'congrat',\n",
       " '1',\n",
       " 'year',\n",
       " 'special',\n",
       " 'cinema',\n",
       " 'pass',\n",
       " '2',\n",
       " 'call',\n",
       " '09061209465',\n",
       " 'c',\n",
       " 'suprman',\n",
       " 'v',\n",
       " 'matrix3',\n",
       " 'starwars3',\n",
       " 'etc',\n",
       " '4',\n",
       " 'free',\n",
       " '150pm',\n",
       " 'dont',\n",
       " 'miss',\n",
       " 'valu',\n",
       " 'custom',\n",
       " 'pleas',\n",
       " 'advis',\n",
       " 'follow',\n",
       " 'recent',\n",
       " 'review',\n",
       " 'mob',\n",
       " 'award',\n",
       " 'bonu',\n",
       " 'prize',\n",
       " 'call',\n",
       " '09066364589',\n",
       " 'urgent',\n",
       " 'ur',\n",
       " 'award',\n",
       " 'complimentari',\n",
       " 'trip',\n",
       " 'eurodisinc',\n",
       " 'trav',\n",
       " 'aco',\n",
       " 'entry41',\n",
       " 'claim',\n",
       " 'txt',\n",
       " 'di',\n",
       " '87121',\n",
       " 'morefrmmob',\n",
       " 'shracomorsglsuplt',\n",
       " '10',\n",
       " 'ls1',\n",
       " '3aj',\n",
       " 'hear',\n",
       " 'new',\n",
       " 'come',\n",
       " 'ken',\n",
       " 'stuff',\n",
       " 'pleas',\n",
       " 'call',\n",
       " 'custom',\n",
       " 'servic',\n",
       " 'repres',\n",
       " '0800',\n",
       " '169',\n",
       " '6031',\n",
       " 'guarante',\n",
       " 'cash',\n",
       " 'prize',\n",
       " 'free',\n",
       " 'rington',\n",
       " 'wait',\n",
       " 'collect',\n",
       " 'simpli',\n",
       " 'text',\n",
       " 'password',\n",
       " '85069',\n",
       " 'verifi',\n",
       " 'get',\n",
       " 'usher',\n",
       " 'britney',\n",
       " 'fml',\n",
       " 'gent',\n",
       " 'tri',\n",
       " 'contact',\n",
       " 'last',\n",
       " 'weekend',\n",
       " 'draw',\n",
       " 'show',\n",
       " 'prize',\n",
       " 'guarante',\n",
       " 'call',\n",
       " 'claim',\n",
       " 'code',\n",
       " 'k52',\n",
       " 'valid',\n",
       " '12hr',\n",
       " '150ppm',\n",
       " 'winner',\n",
       " 'u',\n",
       " 'special',\n",
       " 'select',\n",
       " '2',\n",
       " 'receiv',\n",
       " '4',\n",
       " 'holiday',\n",
       " 'flight',\n",
       " 'inc',\n",
       " 'speak',\n",
       " 'live',\n",
       " 'oper',\n",
       " '2',\n",
       " 'claim',\n",
       " 'privat',\n",
       " '2004',\n",
       " 'account',\n",
       " 'statement',\n",
       " '07742676969',\n",
       " 'show',\n",
       " '786',\n",
       " 'unredeem',\n",
       " 'bonu',\n",
       " 'point',\n",
       " 'claim',\n",
       " 'call',\n",
       " '08719180248',\n",
       " 'identifi',\n",
       " 'code',\n",
       " '45239',\n",
       " 'expir',\n",
       " 'urgent',\n",
       " 'mobil',\n",
       " 'award',\n",
       " 'bonu',\n",
       " 'caller',\n",
       " 'prize',\n",
       " 'final',\n",
       " 'tri',\n",
       " 'contact',\n",
       " 'u',\n",
       " 'call',\n",
       " 'landlin',\n",
       " '09064019788',\n",
       " 'box42wr29c',\n",
       " '150ppm',\n",
       " 'today',\n",
       " 'voda',\n",
       " 'number',\n",
       " 'end',\n",
       " '7548',\n",
       " 'select',\n",
       " 'receiv',\n",
       " '350',\n",
       " 'award',\n",
       " 'match',\n",
       " 'pleas',\n",
       " 'call',\n",
       " '08712300220',\n",
       " 'quot',\n",
       " 'claim',\n",
       " 'code',\n",
       " '4041',\n",
       " 'standard',\n",
       " 'rate',\n",
       " 'app',\n",
       " 'sunshin',\n",
       " 'quiz',\n",
       " 'wkli',\n",
       " 'q',\n",
       " 'win',\n",
       " 'top',\n",
       " 'soni',\n",
       " 'dvd',\n",
       " 'player',\n",
       " 'u',\n",
       " 'know',\n",
       " 'countri',\n",
       " 'algarv',\n",
       " 'txt',\n",
       " 'ansr',\n",
       " 'sp',\n",
       " 'tyron',\n",
       " 'want',\n",
       " '2',\n",
       " 'get',\n",
       " 'laid',\n",
       " 'tonight',\n",
       " 'want',\n",
       " 'real',\n",
       " 'dog',\n",
       " 'locat',\n",
       " 'sent',\n",
       " 'direct',\n",
       " '2',\n",
       " 'ur',\n",
       " 'mob',\n",
       " 'join',\n",
       " 'uk',\n",
       " 'largest',\n",
       " 'dog',\n",
       " 'network',\n",
       " 'bt',\n",
       " 'txting',\n",
       " 'gravel',\n",
       " '69888',\n",
       " 'nt',\n",
       " 'ec2a',\n",
       " '150p',\n",
       " 'rcv',\n",
       " 'msg',\n",
       " 'chat',\n",
       " 'svc',\n",
       " 'free',\n",
       " 'hardcor',\n",
       " 'servic',\n",
       " 'text',\n",
       " 'go',\n",
       " '69988',\n",
       " 'u',\n",
       " 'get',\n",
       " 'noth',\n",
       " 'u',\n",
       " 'must',\n",
       " 'age',\n",
       " 'verifi',\n",
       " 'yr',\n",
       " 'network',\n",
       " 'tri',\n",
       " 'freemsg',\n",
       " 'repli',\n",
       " 'text',\n",
       " 'randi',\n",
       " 'sexi',\n",
       " 'femal',\n",
       " 'live',\n",
       " 'local',\n",
       " 'luv',\n",
       " 'hear',\n",
       " 'netcollex',\n",
       " 'ltd',\n",
       " '08700621170150p',\n",
       " 'per',\n",
       " 'msg',\n",
       " 'repli',\n",
       " 'stop',\n",
       " 'end',\n",
       " 'custom',\n",
       " 'servic',\n",
       " 'annonc',\n",
       " 'new',\n",
       " 'year',\n",
       " 'deliveri',\n",
       " 'wait',\n",
       " 'pleas',\n",
       " 'call',\n",
       " '07046744435',\n",
       " 'arrang',\n",
       " 'deliveri',\n",
       " 'winner',\n",
       " 'u',\n",
       " 'special',\n",
       " 'select',\n",
       " '2',\n",
       " 'receiv',\n",
       " 'cash',\n",
       " '4',\n",
       " 'holiday',\n",
       " 'flight',\n",
       " 'inc',\n",
       " 'speak',\n",
       " 'live',\n",
       " 'oper',\n",
       " '2',\n",
       " 'claim',\n",
       " '0871277810810',\n",
       " 'stop',\n",
       " 'bootydeli',\n",
       " 'invit',\n",
       " 'friend',\n",
       " 'repli',\n",
       " 'see',\n",
       " 'stop',\n",
       " 'send',\n",
       " 'stop',\n",
       " 'frnd',\n",
       " '62468',\n",
       " 'bangbab',\n",
       " 'ur',\n",
       " 'order',\n",
       " 'way',\n",
       " 'u',\n",
       " 'receiv',\n",
       " 'servic',\n",
       " 'msg',\n",
       " '2',\n",
       " 'download',\n",
       " 'ur',\n",
       " 'content',\n",
       " 'u',\n",
       " 'goto',\n",
       " 'wap',\n",
       " 'bangb',\n",
       " 'tv',\n",
       " 'ur',\n",
       " 'mobil',\n",
       " 'menu',\n",
       " 'urgent',\n",
       " 'tri',\n",
       " 'contact',\n",
       " 'last',\n",
       " 'weekend',\n",
       " 'draw',\n",
       " 'show',\n",
       " 'prize',\n",
       " 'guarante',\n",
       " 'call',\n",
       " 'claim',\n",
       " 'code',\n",
       " 's89',\n",
       " 'valid',\n",
       " '12hr',\n",
       " 'pleas',\n",
       " 'call',\n",
       " 'custom',\n",
       " 'servic',\n",
       " 'repres',\n",
       " 'freephon',\n",
       " '0808',\n",
       " '145',\n",
       " '4742',\n",
       " 'guarante',\n",
       " 'cash',\n",
       " 'prize',\n",
       " 'uniqu',\n",
       " 'enough',\n",
       " 'find',\n",
       " '30th',\n",
       " 'august',\n",
       " '500',\n",
       " 'new',\n",
       " 'mobil',\n",
       " '2004',\n",
       " 'must',\n",
       " 'go',\n",
       " 'txt',\n",
       " 'nokia',\n",
       " '89545',\n",
       " 'collect',\n",
       " 'today',\n",
       " '2optout',\n",
       " 'u',\n",
       " 'meet',\n",
       " 'ur',\n",
       " 'dream',\n",
       " 'partner',\n",
       " 'soon',\n",
       " 'ur',\n",
       " 'career',\n",
       " '2',\n",
       " 'flyng',\n",
       " 'start',\n",
       " '2',\n",
       " 'find',\n",
       " 'free',\n",
       " 'txt',\n",
       " 'horo',\n",
       " 'follow',\n",
       " 'ur',\n",
       " 'star',\n",
       " 'sign',\n",
       " 'horo',\n",
       " 'ari',\n",
       " 'text',\n",
       " 'meet',\n",
       " 'someon',\n",
       " 'sexi',\n",
       " 'today',\n",
       " 'u',\n",
       " 'find',\n",
       " 'date',\n",
       " 'even',\n",
       " 'flirt',\n",
       " 'join',\n",
       " '4',\n",
       " '10p',\n",
       " 'repli',\n",
       " 'name',\n",
       " 'age',\n",
       " 'eg',\n",
       " 'sam',\n",
       " '25',\n",
       " '18',\n",
       " 'recd',\n",
       " 'thirtyeight',\n",
       " 'penc',\n",
       " 'u',\n",
       " '447801259231',\n",
       " 'secret',\n",
       " 'admir',\n",
       " 'look',\n",
       " '2',\n",
       " 'make',\n",
       " 'contact',\n",
       " 'r',\n",
       " 'reveal',\n",
       " 'think',\n",
       " 'ur',\n",
       " '09058094597',\n",
       " 'congratul',\n",
       " 'ur',\n",
       " 'award',\n",
       " '500',\n",
       " 'cd',\n",
       " 'voucher',\n",
       " '125gift',\n",
       " 'guarante',\n",
       " 'free',\n",
       " 'entri',\n",
       " '2',\n",
       " '100',\n",
       " 'wkli',\n",
       " 'draw',\n",
       " 'txt',\n",
       " 'music',\n",
       " '87066',\n",
       " 'tnc',\n",
       " 'tri',\n",
       " 'contact',\n",
       " 'repli',\n",
       " 'offer',\n",
       " 'video',\n",
       " 'handset',\n",
       " '750',\n",
       " 'anytim',\n",
       " 'network',\n",
       " 'min',\n",
       " 'unlimit',\n",
       " 'text',\n",
       " 'camcord',\n",
       " 'repli',\n",
       " 'call',\n",
       " '08000930705',\n",
       " 'hey',\n",
       " 'realli',\n",
       " 'horni',\n",
       " 'want',\n",
       " 'chat',\n",
       " 'see',\n",
       " 'nake',\n",
       " 'text',\n",
       " 'hot',\n",
       " '69698',\n",
       " 'text',\n",
       " 'charg',\n",
       " '150pm',\n",
       " 'unsubscrib',\n",
       " 'text',\n",
       " 'stop',\n",
       " '69698',\n",
       " 'ur',\n",
       " 'rington',\n",
       " 'servic',\n",
       " 'chang',\n",
       " '25',\n",
       " 'free',\n",
       " 'credit',\n",
       " 'go',\n",
       " 'choos',\n",
       " 'content',\n",
       " 'stop',\n",
       " 'txt',\n",
       " 'club',\n",
       " 'stop',\n",
       " '87070',\n",
       " 'club4',\n",
       " 'po',\n",
       " 'box1146',\n",
       " 'mk45',\n",
       " '2wt',\n",
       " 'rington',\n",
       " 'club',\n",
       " 'get',\n",
       " 'uk',\n",
       " 'singl',\n",
       " 'chart',\n",
       " 'mobil',\n",
       " 'week',\n",
       " 'choos',\n",
       " 'top',\n",
       " 'qualiti',\n",
       " 'rington',\n",
       " 'messag',\n",
       " 'free',\n",
       " 'charg',\n",
       " 'hmv',\n",
       " 'bonu',\n",
       " 'special',\n",
       " '500',\n",
       " 'pound',\n",
       " 'genuin',\n",
       " 'hmv',\n",
       " 'voucher',\n",
       " 'answer',\n",
       " '4',\n",
       " 'easi',\n",
       " 'question',\n",
       " 'play',\n",
       " 'send',\n",
       " 'hmv',\n",
       " '86688',\n",
       " 'info',\n",
       " 'custom',\n",
       " 'may',\n",
       " 'claim',\n",
       " 'free',\n",
       " 'camera',\n",
       " 'phone',\n",
       " 'upgrad',\n",
       " 'pay',\n",
       " 'go',\n",
       " 'sim',\n",
       " 'card',\n",
       " 'loyalti',\n",
       " 'call',\n",
       " '0845',\n",
       " '021',\n",
       " 'end',\n",
       " 'c',\n",
       " 'appli',\n",
       " 'sm',\n",
       " 'ac',\n",
       " 'blind',\n",
       " 'date',\n",
       " '4u',\n",
       " 'rodds1',\n",
       " 'aberdeen',\n",
       " 'unit',\n",
       " 'kingdom',\n",
       " 'check',\n",
       " 'http',\n",
       " 'sm',\n",
       " 'blind',\n",
       " 'date',\n",
       " 'send',\n",
       " 'hide',\n",
       " 'themob',\n",
       " 'check',\n",
       " 'newest',\n",
       " 'select',\n",
       " 'content',\n",
       " 'game',\n",
       " 'tone',\n",
       " 'gossip',\n",
       " 'babe',\n",
       " 'sport',\n",
       " 'keep',\n",
       " 'mobil',\n",
       " 'fit',\n",
       " 'funki',\n",
       " 'text',\n",
       " 'wap',\n",
       " '82468',\n",
       " 'think',\n",
       " 'ur',\n",
       " 'smart',\n",
       " 'win',\n",
       " 'week',\n",
       " 'weekli',\n",
       " 'quiz',\n",
       " 'text',\n",
       " 'play',\n",
       " '85222',\n",
       " 'cs',\n",
       " 'winnersclub',\n",
       " 'po',\n",
       " 'box',\n",
       " '84',\n",
       " 'm26',\n",
       " '3uz',\n",
       " 'decemb',\n",
       " 'mobil',\n",
       " 'entitl',\n",
       " 'updat',\n",
       " 'latest',\n",
       " 'colour',\n",
       " 'camera',\n",
       " 'mobil',\n",
       " 'free',\n",
       " 'call',\n",
       " 'mobil',\n",
       " 'updat',\n",
       " 'co',\n",
       " 'free',\n",
       " '08002986906',\n",
       " 'call',\n",
       " 'germani',\n",
       " '1',\n",
       " 'penc',\n",
       " 'per',\n",
       " 'minut',\n",
       " 'call',\n",
       " 'fix',\n",
       " 'line',\n",
       " 'via',\n",
       " 'access',\n",
       " 'number',\n",
       " '0844',\n",
       " '861',\n",
       " '85',\n",
       " 'prepay',\n",
       " 'direct',\n",
       " 'access',\n",
       " 'valentin',\n",
       " 'day',\n",
       " 'special',\n",
       " 'win',\n",
       " 'quiz',\n",
       " 'take',\n",
       " 'partner',\n",
       " 'trip',\n",
       " 'lifetim',\n",
       " 'send',\n",
       " 'go',\n",
       " '83600',\n",
       " 'rcvd',\n",
       " 'fanci',\n",
       " 'shag',\n",
       " 'txt',\n",
       " 'xxuk',\n",
       " 'suzi',\n",
       " 'txt',\n",
       " 'cost',\n",
       " 'per',\n",
       " 'msg',\n",
       " 'tnc',\n",
       " 'websit',\n",
       " 'x',\n",
       " 'ur',\n",
       " 'current',\n",
       " '500',\n",
       " 'pound',\n",
       " 'maxim',\n",
       " 'ur',\n",
       " 'send',\n",
       " 'cash',\n",
       " '86688',\n",
       " 'cc',\n",
       " '08708800282',\n",
       " 'xma',\n",
       " 'offer',\n",
       " 'latest',\n",
       " 'motorola',\n",
       " 'sonyericsson',\n",
       " 'nokia',\n",
       " 'free',\n",
       " 'bluetooth',\n",
       " 'doubl',\n",
       " 'min',\n",
       " '1000',\n",
       " 'txt',\n",
       " 'orang',\n",
       " 'call',\n",
       " 'mobileupd8',\n",
       " '08000839402',\n",
       " 'discount',\n",
       " 'code',\n",
       " 'rp176781',\n",
       " 'stop',\n",
       " 'messag',\n",
       " 'repli',\n",
       " 'stop',\n",
       " 'custom',\n",
       " 'servic',\n",
       " '08717205546',\n",
       " 'thank',\n",
       " 'rington',\n",
       " 'order',\n",
       " 'refer',\n",
       " 't91',\n",
       " 'charg',\n",
       " 'gbp',\n",
       " '4',\n",
       " 'per',\n",
       " 'week',\n",
       " 'unsubscrib',\n",
       " 'anytim',\n",
       " 'call',\n",
       " 'custom',\n",
       " 'servic',\n",
       " '09057039994',\n",
       " 'doubl',\n",
       " 'min',\n",
       " 'txt',\n",
       " '4',\n",
       " '6month',\n",
       " 'free',\n",
       " 'bluetooth',\n",
       " 'orang',\n",
       " 'avail',\n",
       " 'soni',\n",
       " 'nokia',\n",
       " 'motorola',\n",
       " 'phone',\n",
       " 'call',\n",
       " 'mobileupd8',\n",
       " '08000839402',\n",
       " '4mth',\n",
       " 'half',\n",
       " 'price',\n",
       " 'orang',\n",
       " 'line',\n",
       " 'rental',\n",
       " 'latest',\n",
       " 'camera',\n",
       " 'phone',\n",
       " '4',\n",
       " 'free',\n",
       " 'phone',\n",
       " '11mth',\n",
       " 'call',\n",
       " 'mobilesdirect',\n",
       " 'free',\n",
       " '08000938767',\n",
       " 'updat',\n",
       " 'or2stoptxt',\n",
       " 'free',\n",
       " 'rington',\n",
       " 'text',\n",
       " 'first',\n",
       " '87131',\n",
       " 'poli',\n",
       " 'text',\n",
       " 'get',\n",
       " '87131',\n",
       " 'true',\n",
       " 'tone',\n",
       " 'help',\n",
       " '0845',\n",
       " '2814032',\n",
       " '16',\n",
       " '1st',\n",
       " 'free',\n",
       " 'tone',\n",
       " 'txt',\n",
       " 'stop',\n",
       " '100',\n",
       " 'date',\n",
       " 'servic',\n",
       " 'cal',\n",
       " 'l',\n",
       " '09064012103',\n",
       " 'box334sk38ch',\n",
       " 'free',\n",
       " 'entri',\n",
       " 'weekli',\n",
       " 'competit',\n",
       " 'text',\n",
       " 'word',\n",
       " 'win',\n",
       " '80086',\n",
       " '18',\n",
       " 'c',\n",
       " 'send',\n",
       " 'logo',\n",
       " '2',\n",
       " 'ur',\n",
       " 'lover',\n",
       " '2',\n",
       " 'name',\n",
       " 'join',\n",
       " 'heart',\n",
       " 'txt',\n",
       " 'love',\n",
       " 'name1',\n",
       " 'name2',\n",
       " 'mobno',\n",
       " 'eg',\n",
       " 'love',\n",
       " 'adam',\n",
       " 'eve',\n",
       " '07123456789',\n",
       " '87077',\n",
       " 'yahoo',\n",
       " 'pobox36504w45wq',\n",
       " 'txtno',\n",
       " '4',\n",
       " 'ad',\n",
       " '150p',\n",
       " 'someon',\n",
       " 'contact',\n",
       " 'date',\n",
       " 'servic',\n",
       " 'enter',\n",
       " 'phone',\n",
       " 'fanci',\n",
       " 'find',\n",
       " 'call',\n",
       " 'landlin',\n",
       " '09111032124',\n",
       " 'pobox12n146tf150p',\n",
       " 'urgent',\n",
       " 'mobil',\n",
       " 'number',\n",
       " 'award',\n",
       " 'prize',\n",
       " 'guarante',\n",
       " 'call',\n",
       " '09058094455',\n",
       " 'land',\n",
       " 'line',\n",
       " 'claim',\n",
       " 'valid',\n",
       " '12hr',\n",
       " 'congrat',\n",
       " 'nokia',\n",
       " '3650',\n",
       " 'video',\n",
       " 'camera',\n",
       " ...]"
      ]
     },
     "execution_count": 74,
     "metadata": {},
     "output_type": "execute_result"
    }
   ],
   "source": [
    "spam_corpus"
   ]
  },
  {
   "cell_type": "code",
   "execution_count": 90,
   "id": "d7cb6375",
   "metadata": {},
   "outputs": [
    {
     "data": {
      "text/plain": [
       "0        call\n",
       "1        free\n",
       "2           2\n",
       "3         txt\n",
       "4        text\n",
       "5           u\n",
       "6          ur\n",
       "7       mobil\n",
       "8        stop\n",
       "9       repli\n",
       "10      claim\n",
       "11          4\n",
       "12      prize\n",
       "13        get\n",
       "14        new\n",
       "15     servic\n",
       "16       tone\n",
       "17       send\n",
       "18     urgent\n",
       "19      nokia\n",
       "20    contact\n",
       "21      award\n",
       "22      phone\n",
       "23       cash\n",
       "24      pleas\n",
       "25       week\n",
       "26        win\n",
       "27          c\n",
       "28    collect\n",
       "29        min\n",
       "Name: 0, dtype: object"
      ]
     },
     "execution_count": 90,
     "metadata": {},
     "output_type": "execute_result"
    }
   ],
   "source": [
    "xx=pd.DataFrame(Counter(spam_corpus).most_common(30))\n",
    "xx[0]"
   ]
  },
  {
   "cell_type": "code",
   "execution_count": 88,
   "id": "09a14d91",
   "metadata": {},
   "outputs": [
    {
     "ename": "KeyError",
     "evalue": "'0'",
     "output_type": "error",
     "traceback": [
      "\u001b[1;31m---------------------------------------------------------------------------\u001b[0m",
      "\u001b[1;31mKeyError\u001b[0m                                  Traceback (most recent call last)",
      "Input \u001b[1;32mIn [88]\u001b[0m, in \u001b[0;36m<cell line: 4>\u001b[1;34m()\u001b[0m\n\u001b[0;32m      2\u001b[0m \u001b[38;5;28;01mimport\u001b[39;00m \u001b[38;5;21;01mseaborn\u001b[39;00m \u001b[38;5;28;01mas\u001b[39;00m \u001b[38;5;21;01msns\u001b[39;00m\n\u001b[0;32m      3\u001b[0m \u001b[38;5;66;03m# sns.barplot((pd.DataFrame(Counter(spam_corpus).most_common(30))[0],pd.DataFrame(Counter(spam_corpus).most_common(30))[1]))\u001b[39;00m\n\u001b[1;32m----> 4\u001b[0m sns\u001b[38;5;241m.\u001b[39mbarplot(\u001b[43mxx\u001b[49m\u001b[43m[\u001b[49m\u001b[38;5;124;43m'\u001b[39;49m\u001b[38;5;124;43m0\u001b[39;49m\u001b[38;5;124;43m'\u001b[39;49m\u001b[43m]\u001b[49m,xx[\u001b[38;5;124m'\u001b[39m\u001b[38;5;124m1\u001b[39m\u001b[38;5;124m'\u001b[39m])\n\u001b[0;32m      5\u001b[0m plt\u001b[38;5;241m.\u001b[39mxticks(rotation\u001b[38;5;241m=\u001b[39m\u001b[38;5;124m'\u001b[39m\u001b[38;5;124mvertical\u001b[39m\u001b[38;5;124m'\u001b[39m)\n\u001b[0;32m      6\u001b[0m plt\u001b[38;5;241m.\u001b[39mshow()\n",
      "File \u001b[1;32m~\\AppData\\Local\\Programs\\Python\\Python310\\lib\\site-packages\\pandas\\core\\frame.py:3505\u001b[0m, in \u001b[0;36mDataFrame.__getitem__\u001b[1;34m(self, key)\u001b[0m\n\u001b[0;32m   3503\u001b[0m \u001b[38;5;28;01mif\u001b[39;00m \u001b[38;5;28mself\u001b[39m\u001b[38;5;241m.\u001b[39mcolumns\u001b[38;5;241m.\u001b[39mnlevels \u001b[38;5;241m>\u001b[39m \u001b[38;5;241m1\u001b[39m:\n\u001b[0;32m   3504\u001b[0m     \u001b[38;5;28;01mreturn\u001b[39;00m \u001b[38;5;28mself\u001b[39m\u001b[38;5;241m.\u001b[39m_getitem_multilevel(key)\n\u001b[1;32m-> 3505\u001b[0m indexer \u001b[38;5;241m=\u001b[39m \u001b[38;5;28;43mself\u001b[39;49m\u001b[38;5;241;43m.\u001b[39;49m\u001b[43mcolumns\u001b[49m\u001b[38;5;241;43m.\u001b[39;49m\u001b[43mget_loc\u001b[49m\u001b[43m(\u001b[49m\u001b[43mkey\u001b[49m\u001b[43m)\u001b[49m\n\u001b[0;32m   3506\u001b[0m \u001b[38;5;28;01mif\u001b[39;00m is_integer(indexer):\n\u001b[0;32m   3507\u001b[0m     indexer \u001b[38;5;241m=\u001b[39m [indexer]\n",
      "File \u001b[1;32m~\\AppData\\Local\\Programs\\Python\\Python310\\lib\\site-packages\\pandas\\core\\indexes\\range.py:389\u001b[0m, in \u001b[0;36mRangeIndex.get_loc\u001b[1;34m(self, key, method, tolerance)\u001b[0m\n\u001b[0;32m    387\u001b[0m             \u001b[38;5;28;01mraise\u001b[39;00m \u001b[38;5;167;01mKeyError\u001b[39;00m(key) \u001b[38;5;28;01mfrom\u001b[39;00m \u001b[38;5;21;01merr\u001b[39;00m\n\u001b[0;32m    388\u001b[0m     \u001b[38;5;28mself\u001b[39m\u001b[38;5;241m.\u001b[39m_check_indexing_error(key)\n\u001b[1;32m--> 389\u001b[0m     \u001b[38;5;28;01mraise\u001b[39;00m \u001b[38;5;167;01mKeyError\u001b[39;00m(key)\n\u001b[0;32m    390\u001b[0m \u001b[38;5;28;01mreturn\u001b[39;00m \u001b[38;5;28msuper\u001b[39m()\u001b[38;5;241m.\u001b[39mget_loc(key, method\u001b[38;5;241m=\u001b[39mmethod, tolerance\u001b[38;5;241m=\u001b[39mtolerance)\n",
      "\u001b[1;31mKeyError\u001b[0m: '0'"
     ]
    }
   ],
   "source": [
    "from collections import Counter\n",
    "import seaborn as sns\n",
    "# sns.barplot((pd.DataFrame(Counter(spam_corpus).most_common(30))[0],pd.DataFrame(Counter(spam_corpus).most_common(30))[1]))\n",
    "sns.barplot(xx['0'],xx['1'])\n",
    "plt.xticks(rotation='vertical')\n",
    "plt.show()"
   ]
  },
  {
   "cell_type": "code",
   "execution_count": 93,
   "id": "04a443af",
   "metadata": {},
   "outputs": [
    {
     "data": {
      "image/png": "[encoded data removed]",
      "text/plain": [
       "<Figure size 432x288 with 1 Axes>"
      ]
     },
     "metadata": {
      "needs_background": "light"
     },
     "output_type": "display_data"
    }
   ],
   "source": [
    "import matplotlib.pyplot as plt\n",
    "\n",
    "# Sample data\n",
    "# data = {'Fruits': ['Apples', 'Oranges', 'Bananas', 'Grapes'], 'Count': [10, 5, 8, 7]}\n",
    "\n",
    "# Create the bar plot\n",
    "# plt.figure(figsize=(8, 6))\n",
    "bars = plt.bar(xx[0], xx[1])\n",
    "\n",
    "# Add labels and title\n",
    "plt.xlabel('words')\n",
    "plt.ylabel('Count')\n",
    "# plt.title('Number of Fruits')\n",
    "plt.xticks(rotation='vertical')\n",
    "# Show the plot\n",
    "plt.show()"
   ]
  },
  {
   "cell_type": "markdown",
   "id": "1c01c0a7",
   "metadata": {},
   "source": [
    "model building\n"
   ]
  },
  {
   "cell_type": "code",
   "execution_count": 94,
   "id": "179bd327",
   "metadata": {},
   "outputs": [],
   "source": [
    "from sklearn.feature_extraction.text import CountVectorizer,TfidfVectorizer\n",
    "cv = CountVectorizer()\n",
    "tfidf = TfidfVectorizer(max_features=3000)"
   ]
  },
  {
   "cell_type": "code",
   "execution_count": 95,
   "id": "c3a63aef",
   "metadata": {},
   "outputs": [],
   "source": [
    "X = tfidf.fit_transform(df['transformed_text']).toarray()"
   ]
  },
  {
   "cell_type": "code",
   "execution_count": 96,
   "id": "3e0c015d",
   "metadata": {},
   "outputs": [
    {
     "data": {
      "text/plain": [
       "(5169, 3000)"
      ]
     },
     "execution_count": 96,
     "metadata": {},
     "output_type": "execute_result"
    }
   ],
   "source": [
    "X.shape"
   ]
  },
  {
   "cell_type": "code",
   "execution_count": 97,
   "id": "d6d6237d",
   "metadata": {},
   "outputs": [],
   "source": [
    "y = df['target'].values"
   ]
  },
  {
   "cell_type": "code",
   "execution_count": 98,
   "id": "946f18a4",
   "metadata": {},
   "outputs": [
    {
     "name": "stdout",
     "output_type": "stream",
     "text": [
      "0.8694390715667312\n",
      "[[788 108]\n",
      " [ 27 111]]\n",
      "0.5068493150684932\n"
     ]
    }
   ],
   "source": [
    "from sklearn.model_selection import train_test_split\n",
    "X_train,X_test,y_train,y_test = train_test_split(X,y,test_size=0.2,random_state=2)\n",
    "from sklearn.naive_bayes import GaussianNB,MultinomialNB,BernoulliNB\n",
    "from sklearn.metrics import accuracy_score,confusion_matrix,precision_score\n",
    "gnb = GaussianNB()\n",
    "mnb = MultinomialNB()\n",
    "bnb = BernoulliNB()\n",
    "gnb.fit(X_train,y_train)\n",
    "y_pred1 = gnb.predict(X_test)\n",
    "print(accuracy_score(y_test,y_pred1))\n",
    "print(confusion_matrix(y_test,y_pred1))\n",
    "print(precision_score(y_test,y_pred1))"
   ]
  },
  {
   "cell_type": "code",
   "execution_count": 99,
   "id": "4dacfe7a",
   "metadata": {},
   "outputs": [
    {
     "name": "stdout",
     "output_type": "stream",
     "text": [
      "0.9709864603481625\n",
      "[[896   0]\n",
      " [ 30 108]]\n",
      "1.0\n"
     ]
    }
   ],
   "source": [
    "mnb.fit(X_train,y_train)\n",
    "y_pred2 = mnb.predict(X_test)\n",
    "print(accuracy_score(y_test,y_pred2))\n",
    "print(confusion_matrix(y_test,y_pred2))\n",
    "print(precision_score(y_test,y_pred2))"
   ]
  },
  {
   "cell_type": "code",
   "execution_count": 100,
   "id": "456ba749",
   "metadata": {},
   "outputs": [
    {
     "name": "stdout",
     "output_type": "stream",
     "text": [
      "0.9835589941972921\n",
      "[[895   1]\n",
      " [ 16 122]]\n",
      "0.991869918699187\n"
     ]
    }
   ],
   "source": [
    "bnb.fit(X_train,y_train)\n",
    "y_pred3 = bnb.predict(X_test)\n",
    "print(accuracy_score(y_test,y_pred3))\n",
    "print(confusion_matrix(y_test,y_pred3))\n",
    "print(precision_score(y_test,y_pred3))"
   ]
  },
  {
   "cell_type": "code",
   "execution_count": 101,
   "id": "ee435619",
   "metadata": {},
   "outputs": [],
   "source": [
    "import pickle\n",
    "pickle.dump(tfidf,open('vectorizer.pkl','wb'))\n",
    "pickle.dump(mnb,open('model.pkl','wb'))"
   ]
  },
  {
   "cell_type": "code",
   "execution_count": null,
   "id": "0edf12b6",
   "metadata": {},
   "outputs": [],
   "source": []
  },
  {
   "cell_type": "code",
   "execution_count": null,
   "id": "06aacd07",
   "metadata": {},
   "outputs": [],
   "source": []
  },
  {
   "cell_type": "code",
   "execution_count": null,
   "id": "851ac9b0",
   "metadata": {},
   "outputs": [],
   "source": []
  },
  {
   "cell_type": "code",
   "execution_count": null,
   "id": "b5ff5106",
   "metadata": {},
   "outputs": [],
   "source": []
  },
  {
   "cell_type": "code",
   "execution_count": null,
   "id": "4a57c37c",
   "metadata": {},
   "outputs": [],
   "source": []
  },
  {
   "cell_type": "code",
   "execution_count": null,
   "id": "f16c7c18",
   "metadata": {},
   "outputs": [],
   "source": []
  },
  {
   "cell_type": "code",
   "execution_count": null,
   "id": "6db3391f",
   "metadata": {},
   "outputs": [],
   "source": []
  }
 ],
 "metadata": {
  "kernelspec": {
   "display_name": "Python 3 (ipykernel)",
   "language": "python",
   "name": "python3"
  },
  "language_info": {
   "codemirror_mode": {
    "name": "ipython",
    "version": 3
   },
   "file_extension": ".py",
   "mimetype": "text/x-python",
   "name": "python",
   "nbconvert_exporter": "python",
   "pygments_lexer": "ipython3",
   "version": "3.10.2"
  }
 },
 "nbformat": 4,
 "nbformat_minor": 5
}
